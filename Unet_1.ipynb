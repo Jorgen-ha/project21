{
  "nbformat": 4,
  "nbformat_minor": 0,
  "metadata": {
    "colab": {
      "provenance": [],
      "gpuType": "T4"
    },
    "kernelspec": {
      "name": "python3",
      "display_name": "Python 3"
    },
    "language_info": {
      "name": "python"
    },
    "accelerator": "GPU"
  },
  "cells": [
    {
      "cell_type": "code",
      "execution_count": 1,
      "metadata": {
        "id": "YDKyhZzaqhrx"
      },
      "outputs": [],
      "source": [
        "import torch\n",
        "import numpy as np\n",
        "import skimage\n",
        "from torchvision import transforms\n",
        "from torch.utils.data import Dataset, DataLoader, random_split\n",
        "import glob"
      ]
    },
    {
      "cell_type": "code",
      "source": [
        "from google.colab import drive\n",
        "drive.mount('/content/drive')"
      ],
      "metadata": {
        "colab": {
          "base_uri": "https://localhost:8080/"
        },
        "id": "uKs62ct-q-us",
        "outputId": "17260235-4d56-4d9d-f76c-429cd7ff1d23"
      },
      "execution_count": 2,
      "outputs": [
        {
          "output_type": "stream",
          "name": "stdout",
          "text": [
            "Mounted at /content/drive\n"
          ]
        }
      ]
    },
    {
      "cell_type": "code",
      "source": [
        "!ls drive/'My Drive'"
      ],
      "metadata": {
        "colab": {
          "base_uri": "https://localhost:8080/"
        },
        "id": "dnDb_8PhrFa3",
        "outputId": "59a85341-967b-41cb-a383-ebde610a469b"
      },
      "execution_count": 3,
      "outputs": [
        {
          "output_type": "stream",
          "name": "stdout",
          "text": [
            " carseg_data\t    data_utils.py\t  plotting.py\t\t  submission.csv   文档\n",
            "'Colab Notebooks'   images\t\t 'Project of DL'\t  test.csv\n",
            " data.pickle\t    leaf-classification   sample_submission.csv   train.csv\n"
          ]
        }
      ]
    },
    {
      "cell_type": "code",
      "source": [
        "date_path = 'drive/My Drive/carseg_data/'\n",
        "array_path = date_path + 'arrays/'"
      ],
      "metadata": {
        "id": "fFBSBxPnrOEQ"
      },
      "execution_count": 4,
      "outputs": []
    },
    {
      "cell_type": "code",
      "source": [
        "array_names = glob.glob(array_path + '*.npy')\n",
        "array_names.sort()\n",
        "print(f\"Number of arrays: {len(array_names)}\")\n",
        "black_arrays = []\n",
        "orange_arrays = []\n",
        "photo_arrays = []\n",
        "\n",
        "for array in array_names:\n",
        "    if 'black' in array:\n",
        "        black_arrays.append(np.load(array))\n",
        "    if 'orange' in array:\n",
        "        orange_arrays.append(np.load(array))\n",
        "    if 'photo' in array:\n",
        "        photo_arrays.append(np.load(array))\n",
        "\n",
        "black_arrays = np.array(black_arrays)\n",
        "orange_arrays = np.array(orange_arrays)\n",
        "photo_arrays = np.array(photo_arrays)\n",
        "\n",
        "\n",
        "\n",
        "print(f\"Number of black arrays: {len(black_arrays)}\")\n",
        "print(black_arrays.shape)\n",
        "print(f\"Number of orange arrays: {len(orange_arrays)}\")\n",
        "print(orange_arrays.shape)\n",
        "print(f\"Number of photo arrays: {len(photo_arrays)}\")\n",
        "print(photo_arrays.shape)\n",
        "print(f\"Total: {len(black_arrays) + len(orange_arrays) + len(photo_arrays)}\")"
      ],
      "metadata": {
        "colab": {
          "base_uri": "https://localhost:8080/"
        },
        "id": "9JxmxOX5rdpQ",
        "outputId": "5fa05e72-5b98-4296-d81e-f51361c4a41f"
      },
      "execution_count": 5,
      "outputs": [
        {
          "output_type": "stream",
          "name": "stdout",
          "text": [
            "Number of arrays: 3004\n",
            "Number of black arrays: 834\n",
            "(834, 256, 256, 4)\n",
            "Number of orange arrays: 2001\n",
            "(2001, 256, 256, 4)\n",
            "Number of photo arrays: 169\n",
            "(169, 256, 256, 4)\n",
            "Total: 3004\n"
          ]
        }
      ]
    },
    {
      "cell_type": "markdown",
      "source": [
        "# **Data process**\n",
        "\n",
        "input size (n,256,256,4) \\\\\n",
        "I think if it's good, we can save the dateset so that we don't need to process the date each time."
      ],
      "metadata": {
        "id": "ooHoKAHAYGm_"
      }
    },
    {
      "cell_type": "code",
      "source": [
        "from sklearn.preprocessing import OneHotEncoder\n"
      ],
      "metadata": {
        "id": "TtVPEF7_HL05"
      },
      "execution_count": 6,
      "outputs": []
    },
    {
      "cell_type": "code",
      "source": [
        "categories = [\n",
        "    [0, 10, 20, 30, 40, 50, 60, 70, 80, 90]\n",
        " ]\n",
        "encoder = OneHotEncoder(categories=categories, sparse_output=False)\n",
        "def onehot(data, n):\n",
        "    data_flat = data.ravel()\n",
        "    onehot_encoded = encoder.fit_transform(data_flat.reshape(-1, 1))\n",
        "    onehot_encoded = onehot_encoded.reshape(256, 256, -1)\n",
        "    return onehot_encoded\n",
        "\n",
        "\n",
        "transform = transforms.Compose([\n",
        "    transforms.ToTensor(),\n",
        "    transforms.Normalize(mean=[0.485, 0.456, 0.406], std=[0.229, 0.224, 0.225])])\n",
        "\n",
        "\n",
        "class MyDataset(Dataset):\n",
        "    def __init__(self, data, transform=None):\n",
        "        self.data = data\n",
        "        self.transform = transform\n",
        "\n",
        "    def __len__(self):\n",
        "        return len(self.data)\n",
        "\n",
        "    def __getitem__(self, index):\n",
        "        sample = self.data[index]\n",
        "        image = sample[:,:,:3]  #rgd image\n",
        "        label = sample[:,:,3]  #label image\n",
        "\n",
        "        # change date type form numpy to tensor\n",
        "        if transform is not None:\n",
        "            image = transform(image)\n",
        "\n",
        "        label = onehot(label, 10) # (n,256,256,10)\n",
        "        label = label.transpose(2,0,1)#(n,10, 256,256)\n",
        "        label = torch.FloatTensor(label)\n",
        "\n",
        "        return image, label\n",
        "\n",
        "\n",
        "\n"
      ],
      "metadata": {
        "id": "vPz56WTkHy-i"
      },
      "execution_count": 7,
      "outputs": []
    },
    {
      "cell_type": "code",
      "source": [
        "carpart = MyDataset(black_arrays, transform)\n",
        "#torch.save(carpart, 'carpart_dataset.pth')  #save the dataset\n",
        "train_size = int(0.9 * len(carpart))   #90% for train\n",
        "test_size = len(carpart) - train_size #10% for test\n",
        "train_dataset, test_dataset = random_split(carpart, [train_size, test_size])\n",
        "\n",
        "train_dataloader = DataLoader(train_dataset, batch_size=12, shuffle=True, num_workers=2)\n",
        "test_dataloader = DataLoader(test_dataset, batch_size=12, shuffle=True, num_workers=2)"
      ],
      "metadata": {
        "id": "9BlEEgfDXa5F"
      },
      "execution_count": 8,
      "outputs": []
    },
    {
      "cell_type": "code",
      "source": [
        "'''\n",
        "#test if the onehot function works well\n",
        "onehottest = (black_arrays[703,:,:,3] / 10).astype(np.int32)\n",
        "print(onehottest.max())\n",
        "print(onehottest)\n",
        "print(black_arrays[0,:,:,3].dtype)\n",
        "\n",
        "\n",
        "print(onehot_encoded.shape)\n",
        "print(onehot_encoded[:,:,0]) #(1, 10, 256, 256)\n",
        "onehot_encoded = (np.argmax(onehot_encoded, axis=2) * 10).astype(np.uint8)\n",
        "print(onehot_encoded.shape)  #(1,256, 256)\n",
        "\n",
        "plt.subplot(1, 2, 1)\n",
        "plt.imshow(label2colar(black_arrays[703,:,:,3]))\n",
        "plt.subplot(1, 2, 2)\n",
        "plt.imshow(label2colar(onehot_encoded))\n",
        "'''"
      ],
      "metadata": {
        "colab": {
          "base_uri": "https://localhost:8080/",
          "height": 105
        },
        "id": "4OPJn3Jh7WuP",
        "outputId": "f8a63bb8-3b5a-4b27-b05a-c4bfc4f9d455"
      },
      "execution_count": 9,
      "outputs": [
        {
          "output_type": "execute_result",
          "data": {
            "text/plain": [
              "'\\n#test if the onehot function works well\\nonehottest = (black_arrays[703,:,:,3] / 10).astype(np.int32)\\nprint(onehottest.max())\\nprint(onehottest)\\nprint(black_arrays[0,:,:,3].dtype)\\n\\n\\nprint(onehot_encoded.shape)\\nprint(onehot_encoded[:,:,0]) #(1, 10, 256, 256)\\nonehot_encoded = (np.argmax(onehot_encoded, axis=2) * 10).astype(np.uint8)\\nprint(onehot_encoded.shape)  #(1,256, 256)\\n\\nplt.subplot(1, 2, 1)\\nplt.imshow(label2colar(black_arrays[703,:,:,3]))\\nplt.subplot(1, 2, 2)\\nplt.imshow(label2colar(onehot_encoded))\\n'"
            ],
            "application/vnd.google.colaboratory.intrinsic+json": {
              "type": "string"
            }
          },
          "metadata": {},
          "execution_count": 9
        }
      ]
    },
    {
      "cell_type": "markdown",
      "source": [
        "# The basic architechture of model"
      ],
      "metadata": {
        "id": "YZUHFB_1as0o"
      }
    },
    {
      "cell_type": "code",
      "source": [
        "import torch\n",
        "import torch.nn as nn\n",
        "import torchvision.transforms.functional as TF"
      ],
      "metadata": {
        "id": "AQUKTxnkfslZ"
      },
      "execution_count": 10,
      "outputs": []
    },
    {
      "cell_type": "code",
      "source": [
        "#Architect of U_net\n",
        "class DoubleConv(nn.Module):\n",
        "    def __init__(self, in_channels, out_channels):\n",
        "        super(DoubleConv, self).__init__()\n",
        "        self.conv = nn.Sequential(\n",
        "            nn.Conv2d(in_channels, out_channels, 3, 1, 1, bias = False),\n",
        "            nn.BatchNorm2d(out_channels),\n",
        "            nn.ReLU(inplace=True),\n",
        "            nn.Conv2d(out_channels, out_channels, 3, 1, 1,bias = False),\n",
        "            nn.BatchNorm2d(out_channels),\n",
        "            nn.ReLU(inplace=True),\n",
        "        )\n",
        "\n",
        "    def forward(self, x):\n",
        "        return self.conv(x)\n",
        "\n",
        "class UNET(nn.Module):\n",
        "    def __init__(self, in_channels=3, out_channels=1, features = [64, 128, 256, 512]):\n",
        "        super(UNET, self).__init__()\n",
        "        self.ups = nn.ModuleList()\n",
        "        self.downs = nn.ModuleList()\n",
        "        self.pool = nn.MaxPool2d(kernel_size=2, stride=2)\n",
        "\n",
        "        #Down part of U_net\n",
        "        for feature in features:\n",
        "            self.downs.append(DoubleConv(in_channels, feature))\n",
        "            in_channels = feature\n",
        "\n",
        "        #Up\n",
        "        for feature in reversed(features):\n",
        "            self.ups.append(\n",
        "                nn.ConvTranspose2d(\n",
        "                    feature*2, feature, kernel_size=2, stride=2,\n",
        "                    )# 28*1024 -> 56 * 512\n",
        "            )\n",
        "            self.ups.append(DoubleConv(feature*2, feature))\n",
        "        #bottle\n",
        "        self.bottleneck = DoubleConv(features[-1], features[-1]*2)  #1024\n",
        "        #final FF\n",
        "        self.final_conv = nn.Conv2d(features[0], out_channels, kernel_size=1)\n",
        "\n",
        "    def forward(self, x):\n",
        "        skip_connections = []\n",
        "\n",
        "        for down in self.downs:\n",
        "            x = down(x)\n",
        "            skip_connections.append(x)\n",
        "            x = self.pool(x)\n",
        "\n",
        "        x = self.bottleneck(x)\n",
        "\n",
        "        skip_connections = skip_connections[::-1]\n",
        "\n",
        "        for idx in range(0, len(self.ups), 2):\n",
        "            x = self.ups[idx](x)\n",
        "            skip_connection = skip_connections[idx//2]\n",
        "\n",
        "            #checking\n",
        "            if x.shape != skip_connection.shape:\n",
        "                x = TF.resize(x, size= skip_connection.shape[2:])\n",
        "            concat_skip = torch.cat((skip_connection, x), dim = 1)\n",
        "            x = self.ups[idx+1](concat_skip)\n",
        "\n",
        "        return self.final_conv(x)"
      ],
      "metadata": {
        "id": "NBH6RN5_fvDU"
      },
      "execution_count": 11,
      "outputs": []
    },
    {
      "cell_type": "code",
      "source": [
        "def test():\n",
        "    x = torch.randn((3, 3, 256, 256))# n = 3, in_channel = 3, h = w =256\n",
        "    model = UNET(in_channels = 3, out_channels = 10)\n",
        "    preds = model(x)\n",
        "    print(preds.shape)\n",
        "    print(x.shape)\n",
        "    #shape of input and output is same\n",
        "\n",
        "\n",
        "test()"
      ],
      "metadata": {
        "colab": {
          "base_uri": "https://localhost:8080/"
        },
        "id": "HSYeNggTf_O5",
        "outputId": "39f81c27-35b6-4ece-f578-47194784ed14"
      },
      "execution_count": 12,
      "outputs": [
        {
          "output_type": "stream",
          "name": "stdout",
          "text": [
            "torch.Size([3, 10, 256, 256])\n",
            "torch.Size([3, 3, 256, 256])\n"
          ]
        }
      ]
    },
    {
      "cell_type": "markdown",
      "source": [
        "# Train"
      ],
      "metadata": {
        "id": "gKX7x9tRd5_1"
      }
    },
    {
      "cell_type": "code",
      "source": [
        "from datetime import datetime\n",
        "\n",
        "import matplotlib.pyplot as plt\n",
        "import numpy as np\n",
        "import torch\n",
        "import torch.nn as nn\n",
        "import torch.optim as optim\n",
        "from tqdm import trange"
      ],
      "metadata": {
        "id": "GXwCDXUNfnwA"
      },
      "execution_count": 13,
      "outputs": []
    },
    {
      "cell_type": "code",
      "source": [
        "\n",
        "def train(epo_num=50, show_vgg_params=False):\n",
        "\n",
        "\n",
        "    device = torch.device('cuda' if torch.cuda.is_available() else 'cpu')\n",
        "\n",
        "\n",
        "    model = UNET(in_channels = 3, out_channels = 10)#input is rgb output is 10 classes\n",
        "    model = model.to(device)\n",
        "    criterion = nn.BCELoss().to(device) #loss\n",
        "    optimizer = optim.SGD(model.parameters(), lr=1e-2, momentum=0.7) #optimizer\n",
        "\n",
        "    all_train_iter_loss = []\n",
        "    all_test_iter_loss = []\n",
        "\n",
        "    # start timing\n",
        "    prev_time = datetime.now()\n",
        "    for epo in trange(epo_num):\n",
        "\n",
        "        train_loss = 0\n",
        "        model.train()\n",
        "        for index, (car, car_msk) in enumerate(train_dataloader):\n",
        "            # car.shape is torch.Size([12, 3, 256, 256])\n",
        "            # car_msk.shape is torch.Size([12, 10, 256, 256])\n",
        "\n",
        "            car = car.to(device)\n",
        "            car_msk = car_msk.to(device)\n",
        "\n",
        "            optimizer.zero_grad()\n",
        "            output = model(car)\n",
        "            output = torch.sigmoid(output) # output.shape is torch.Size([12, 10, 256, 256])\n",
        "            # print(output)\n",
        "            # print(car_msk)\n",
        "            loss = criterion(output, car_msk)\n",
        "            loss.backward()\n",
        "            iter_loss = loss.item()\n",
        "            all_train_iter_loss.append(iter_loss)\n",
        "            train_loss += iter_loss\n",
        "            optimizer.step()\n",
        "\n",
        "            output_np = output.cpu().detach().numpy().copy() # output_np.shape = (12, 10, 256, 256)\n",
        "            output_np = (np.argmax(output_np, axis=1)*10).astype(np.uint8)\n",
        "            car_msk_np = car_msk.cpu().detach().numpy().copy() # car_msk_np.shape = (12, 10, 256, 256)\n",
        "            car_msk_np = (np.argmax(car_msk_np, axis=1)*10).astype(np.uint8)\n",
        "\n",
        "        test_loss = 0\n",
        "        model.eval()\n",
        "        #I think we could don't have a test during the train\n",
        "        with torch.no_grad():\n",
        "            for index, (car, car_msk) in enumerate(test_dataloader):\n",
        "\n",
        "                car = car.to(device)\n",
        "                car_msk = car_msk.to(device)\n",
        "\n",
        "                optimizer.zero_grad()\n",
        "                output = model(car)\n",
        "                output = torch.sigmoid(output) # output.shape is torch.Size([12, 10, 256, 256])\n",
        "                loss = criterion(output, car_msk)\n",
        "                iter_loss = loss.item()\n",
        "                all_test_iter_loss.append(iter_loss)\n",
        "                test_loss += iter_loss\n",
        "\n",
        "                output_np = output.cpu().detach().numpy().copy() # output_np.shape = (12, 10, 256, 256)\n",
        "                output_np = (np.argmax(output_np, axis=1)*10).astype(np.uint8)\n",
        "                car_msk_np = car_msk.cpu().detach().numpy().copy() # car_msk_np.shape = (12, 10, 256, 256)\n",
        "                car_msk_np = (np.argmax(car_msk_np, axis=1)*10).astype(np.uint8)\n",
        "\n",
        "        cur_time = datetime.now()\n",
        "        h, remainder = divmod((cur_time - prev_time).seconds, 3600)\n",
        "        m, s = divmod(remainder, 60)\n",
        "        time_str = \"Time %02d:%02d:%02d\" % (h, m, s)\n",
        "        prev_time = cur_time\n",
        "\n",
        "        print('epoch:', epo, '/', epo_num)\n",
        "        print('epoch train loss = %f, epoch test loss = %f, %s'\n",
        "                %(train_loss/len(train_dataloader), test_loss/len(test_dataloader), time_str))\n",
        "\n",
        "        #save model\n",
        "        #if np.mod(epo, 5) == 0:\n",
        "            #torch.save(model, 'checkpoints/model_{}.pt'.format(epo))\n",
        "            #print('saveing checkpoints/model_{}.pt'.format(epo))\n",
        "    return model\n",
        "\n",
        "\n",
        "if __name__ == \"__main__\":\n",
        "    model = train(epo_num=50)"
      ],
      "metadata": {
        "colab": {
          "base_uri": "https://localhost:8080/"
        },
        "id": "6nEb14y3YcfX",
        "outputId": "bba257fd-a6bd-45e8-86d7-b8a88a952814"
      },
      "execution_count": 14,
      "outputs": [
        {
          "output_type": "stream",
          "name": "stderr",
          "text": [
            "  2%|▏         | 1/50 [00:57<46:54, 57.44s/it]"
          ]
        },
        {
          "output_type": "stream",
          "name": "stdout",
          "text": [
            "epoch: 0 / 50\n",
            "epoch train loss = 0.568751, epoch test loss = 0.488686, Time 00:00:57\n"
          ]
        },
        {
          "output_type": "stream",
          "name": "stderr",
          "text": [
            "\r  4%|▍         | 2/50 [01:50<43:54, 54.88s/it]"
          ]
        },
        {
          "output_type": "stream",
          "name": "stdout",
          "text": [
            "epoch: 1 / 50\n",
            "epoch train loss = 0.359016, epoch test loss = 0.303978, Time 00:00:53\n"
          ]
        },
        {
          "output_type": "stream",
          "name": "stderr",
          "text": [
            "\r  6%|▌         | 3/50 [02:43<42:16, 53.97s/it]"
          ]
        },
        {
          "output_type": "stream",
          "name": "stdout",
          "text": [
            "epoch: 2 / 50\n",
            "epoch train loss = 0.230050, epoch test loss = 0.194155, Time 00:00:52\n"
          ]
        },
        {
          "output_type": "stream",
          "name": "stderr",
          "text": [
            "\r  8%|▊         | 4/50 [03:36<41:12, 53.74s/it]"
          ]
        },
        {
          "output_type": "stream",
          "name": "stdout",
          "text": [
            "epoch: 3 / 50\n",
            "epoch train loss = 0.163376, epoch test loss = 0.141431, Time 00:00:53\n"
          ]
        },
        {
          "output_type": "stream",
          "name": "stderr",
          "text": [
            "\r 10%|█         | 5/50 [04:29<39:58, 53.30s/it]"
          ]
        },
        {
          "output_type": "stream",
          "name": "stdout",
          "text": [
            "epoch: 4 / 50\n",
            "epoch train loss = 0.126786, epoch test loss = 0.113521, Time 00:00:52\n"
          ]
        },
        {
          "output_type": "stream",
          "name": "stderr",
          "text": [
            "\r 12%|█▏        | 6/50 [05:21<38:55, 53.07s/it]"
          ]
        },
        {
          "output_type": "stream",
          "name": "stdout",
          "text": [
            "epoch: 5 / 50\n",
            "epoch train loss = 0.104862, epoch test loss = 0.095621, Time 00:00:52\n"
          ]
        },
        {
          "output_type": "stream",
          "name": "stderr",
          "text": [
            "\r 14%|█▍        | 7/50 [06:14<37:51, 52.82s/it]"
          ]
        },
        {
          "output_type": "stream",
          "name": "stdout",
          "text": [
            "epoch: 6 / 50\n",
            "epoch train loss = 0.090927, epoch test loss = 0.080965, Time 00:00:52\n"
          ]
        },
        {
          "output_type": "stream",
          "name": "stderr",
          "text": [
            "\r 16%|█▌        | 8/50 [07:07<36:58, 52.83s/it]"
          ]
        },
        {
          "output_type": "stream",
          "name": "stdout",
          "text": [
            "epoch: 7 / 50\n",
            "epoch train loss = 0.081076, epoch test loss = 0.075058, Time 00:00:52\n"
          ]
        },
        {
          "output_type": "stream",
          "name": "stderr",
          "text": [
            "\r 18%|█▊        | 9/50 [07:59<36:03, 52.76s/it]"
          ]
        },
        {
          "output_type": "stream",
          "name": "stdout",
          "text": [
            "epoch: 8 / 50\n",
            "epoch train loss = 0.073895, epoch test loss = 0.067837, Time 00:00:52\n"
          ]
        },
        {
          "output_type": "stream",
          "name": "stderr",
          "text": [
            "\r 20%|██        | 10/50 [08:52<35:07, 52.68s/it]"
          ]
        },
        {
          "output_type": "stream",
          "name": "stdout",
          "text": [
            "epoch: 9 / 50\n",
            "epoch train loss = 0.068371, epoch test loss = 0.062113, Time 00:00:52\n"
          ]
        },
        {
          "output_type": "stream",
          "name": "stderr",
          "text": [
            "\r 22%|██▏       | 11/50 [09:44<34:14, 52.68s/it]"
          ]
        },
        {
          "output_type": "stream",
          "name": "stdout",
          "text": [
            "epoch: 10 / 50\n",
            "epoch train loss = 0.064180, epoch test loss = 0.058567, Time 00:00:52\n"
          ]
        },
        {
          "output_type": "stream",
          "name": "stderr",
          "text": [
            "\r 24%|██▍       | 12/50 [10:37<33:22, 52.69s/it]"
          ]
        },
        {
          "output_type": "stream",
          "name": "stdout",
          "text": [
            "epoch: 11 / 50\n",
            "epoch train loss = 0.060553, epoch test loss = 0.055341, Time 00:00:52\n"
          ]
        },
        {
          "output_type": "stream",
          "name": "stderr",
          "text": [
            "\r 26%|██▌       | 13/50 [11:30<32:27, 52.64s/it]"
          ]
        },
        {
          "output_type": "stream",
          "name": "stdout",
          "text": [
            "epoch: 12 / 50\n",
            "epoch train loss = 0.057177, epoch test loss = 0.053155, Time 00:00:52\n"
          ]
        },
        {
          "output_type": "stream",
          "name": "stderr",
          "text": [
            "\r 28%|██▊       | 14/50 [12:22<31:29, 52.47s/it]"
          ]
        },
        {
          "output_type": "stream",
          "name": "stdout",
          "text": [
            "epoch: 13 / 50\n",
            "epoch train loss = 0.054738, epoch test loss = 0.050804, Time 00:00:52\n"
          ]
        },
        {
          "output_type": "stream",
          "name": "stderr",
          "text": [
            "\r 30%|███       | 15/50 [13:14<30:31, 52.33s/it]"
          ]
        },
        {
          "output_type": "stream",
          "name": "stdout",
          "text": [
            "epoch: 14 / 50\n",
            "epoch train loss = 0.052595, epoch test loss = 0.049151, Time 00:00:51\n"
          ]
        },
        {
          "output_type": "stream",
          "name": "stderr",
          "text": [
            "\r 32%|███▏      | 16/50 [14:06<29:40, 52.37s/it]"
          ]
        },
        {
          "output_type": "stream",
          "name": "stdout",
          "text": [
            "epoch: 15 / 50\n",
            "epoch train loss = 0.050945, epoch test loss = 0.047236, Time 00:00:52\n"
          ]
        },
        {
          "output_type": "stream",
          "name": "stderr",
          "text": [
            "\r 34%|███▍      | 17/50 [14:58<28:42, 52.20s/it]"
          ]
        },
        {
          "output_type": "stream",
          "name": "stdout",
          "text": [
            "epoch: 16 / 50\n",
            "epoch train loss = 0.049111, epoch test loss = 0.045648, Time 00:00:51\n"
          ]
        },
        {
          "output_type": "stream",
          "name": "stderr",
          "text": [
            "\r 36%|███▌      | 18/50 [15:50<27:49, 52.17s/it]"
          ]
        },
        {
          "output_type": "stream",
          "name": "stdout",
          "text": [
            "epoch: 17 / 50\n",
            "epoch train loss = 0.047753, epoch test loss = 0.044232, Time 00:00:52\n"
          ]
        },
        {
          "output_type": "stream",
          "name": "stderr",
          "text": [
            "\r 38%|███▊      | 19/50 [16:42<26:56, 52.16s/it]"
          ]
        },
        {
          "output_type": "stream",
          "name": "stdout",
          "text": [
            "epoch: 18 / 50\n",
            "epoch train loss = 0.046353, epoch test loss = 0.043457, Time 00:00:52\n"
          ]
        },
        {
          "output_type": "stream",
          "name": "stderr",
          "text": [
            "\r 40%|████      | 20/50 [17:35<26:11, 52.39s/it]"
          ]
        },
        {
          "output_type": "stream",
          "name": "stdout",
          "text": [
            "epoch: 19 / 50\n",
            "epoch train loss = 0.045441, epoch test loss = 0.042098, Time 00:00:52\n"
          ]
        },
        {
          "output_type": "stream",
          "name": "stderr",
          "text": [
            "\r 42%|████▏     | 21/50 [18:28<25:19, 52.40s/it]"
          ]
        },
        {
          "output_type": "stream",
          "name": "stdout",
          "text": [
            "epoch: 20 / 50\n",
            "epoch train loss = 0.044308, epoch test loss = 0.041024, Time 00:00:52\n"
          ]
        },
        {
          "output_type": "stream",
          "name": "stderr",
          "text": [
            "\r 44%|████▍     | 22/50 [19:20<24:25, 52.35s/it]"
          ]
        },
        {
          "output_type": "stream",
          "name": "stdout",
          "text": [
            "epoch: 21 / 50\n",
            "epoch train loss = 0.043414, epoch test loss = 0.040225, Time 00:00:52\n"
          ]
        },
        {
          "output_type": "stream",
          "name": "stderr",
          "text": [
            "\r 46%|████▌     | 23/50 [20:12<23:32, 52.33s/it]"
          ]
        },
        {
          "output_type": "stream",
          "name": "stdout",
          "text": [
            "epoch: 22 / 50\n",
            "epoch train loss = 0.042554, epoch test loss = 0.039674, Time 00:00:52\n"
          ]
        },
        {
          "output_type": "stream",
          "name": "stderr",
          "text": [
            "\r 48%|████▊     | 24/50 [21:04<22:38, 52.24s/it]"
          ]
        },
        {
          "output_type": "stream",
          "name": "stdout",
          "text": [
            "epoch: 23 / 50\n",
            "epoch train loss = 0.041630, epoch test loss = 0.038807, Time 00:00:52\n"
          ]
        },
        {
          "output_type": "stream",
          "name": "stderr",
          "text": [
            "\r 50%|█████     | 25/50 [21:56<21:40, 52.02s/it]"
          ]
        },
        {
          "output_type": "stream",
          "name": "stdout",
          "text": [
            "epoch: 24 / 50\n",
            "epoch train loss = 0.041021, epoch test loss = 0.037919, Time 00:00:51\n"
          ]
        },
        {
          "output_type": "stream",
          "name": "stderr",
          "text": [
            "\r 52%|█████▏    | 26/50 [22:48<20:50, 52.10s/it]"
          ]
        },
        {
          "output_type": "stream",
          "name": "stdout",
          "text": [
            "epoch: 25 / 50\n",
            "epoch train loss = 0.040251, epoch test loss = 0.037461, Time 00:00:52\n"
          ]
        },
        {
          "output_type": "stream",
          "name": "stderr",
          "text": [
            "\r 54%|█████▍    | 27/50 [23:40<20:00, 52.18s/it]"
          ]
        },
        {
          "output_type": "stream",
          "name": "stdout",
          "text": [
            "epoch: 26 / 50\n",
            "epoch train loss = 0.039620, epoch test loss = 0.036827, Time 00:00:52\n"
          ]
        },
        {
          "output_type": "stream",
          "name": "stderr",
          "text": [
            "\r 56%|█████▌    | 28/50 [24:33<19:10, 52.29s/it]"
          ]
        },
        {
          "output_type": "stream",
          "name": "stdout",
          "text": [
            "epoch: 27 / 50\n",
            "epoch train loss = 0.038922, epoch test loss = 0.036228, Time 00:00:52\n"
          ]
        },
        {
          "output_type": "stream",
          "name": "stderr",
          "text": [
            "\r 58%|█████▊    | 29/50 [25:25<18:14, 52.13s/it]"
          ]
        },
        {
          "output_type": "stream",
          "name": "stdout",
          "text": [
            "epoch: 28 / 50\n",
            "epoch train loss = 0.038445, epoch test loss = 0.035640, Time 00:00:51\n"
          ]
        },
        {
          "output_type": "stream",
          "name": "stderr",
          "text": [
            "\r 60%|██████    | 30/50 [26:17<17:21, 52.09s/it]"
          ]
        },
        {
          "output_type": "stream",
          "name": "stdout",
          "text": [
            "epoch: 29 / 50\n",
            "epoch train loss = 0.037782, epoch test loss = 0.035076, Time 00:00:51\n"
          ]
        },
        {
          "output_type": "stream",
          "name": "stderr",
          "text": [
            "\r 62%|██████▏   | 31/50 [27:09<16:29, 52.08s/it]"
          ]
        },
        {
          "output_type": "stream",
          "name": "stdout",
          "text": [
            "epoch: 30 / 50\n",
            "epoch train loss = 0.037250, epoch test loss = 0.034618, Time 00:00:52\n"
          ]
        },
        {
          "output_type": "stream",
          "name": "stderr",
          "text": [
            "\r 64%|██████▍   | 32/50 [28:01<15:40, 52.27s/it]"
          ]
        },
        {
          "output_type": "stream",
          "name": "stdout",
          "text": [
            "epoch: 31 / 50\n",
            "epoch train loss = 0.036802, epoch test loss = 0.034545, Time 00:00:52\n"
          ]
        },
        {
          "output_type": "stream",
          "name": "stderr",
          "text": [
            "\r 66%|██████▌   | 33/50 [28:54<14:49, 52.33s/it]"
          ]
        },
        {
          "output_type": "stream",
          "name": "stdout",
          "text": [
            "epoch: 32 / 50\n",
            "epoch train loss = 0.036228, epoch test loss = 0.033433, Time 00:00:52\n"
          ]
        },
        {
          "output_type": "stream",
          "name": "stderr",
          "text": [
            "\r 68%|██████▊   | 34/50 [29:46<13:55, 52.24s/it]"
          ]
        },
        {
          "output_type": "stream",
          "name": "stdout",
          "text": [
            "epoch: 33 / 50\n",
            "epoch train loss = 0.035661, epoch test loss = 0.033061, Time 00:00:52\n"
          ]
        },
        {
          "output_type": "stream",
          "name": "stderr",
          "text": [
            "\r 70%|███████   | 35/50 [30:38<13:04, 52.27s/it]"
          ]
        },
        {
          "output_type": "stream",
          "name": "stdout",
          "text": [
            "epoch: 34 / 50\n",
            "epoch train loss = 0.035232, epoch test loss = 0.032734, Time 00:00:52\n"
          ]
        },
        {
          "output_type": "stream",
          "name": "stderr",
          "text": [
            "\r 72%|███████▏  | 36/50 [31:30<12:11, 52.28s/it]"
          ]
        },
        {
          "output_type": "stream",
          "name": "stdout",
          "text": [
            "epoch: 35 / 50\n",
            "epoch train loss = 0.034721, epoch test loss = 0.032240, Time 00:00:52\n"
          ]
        },
        {
          "output_type": "stream",
          "name": "stderr",
          "text": [
            "\r 74%|███████▍  | 37/50 [32:23<11:21, 52.46s/it]"
          ]
        },
        {
          "output_type": "stream",
          "name": "stdout",
          "text": [
            "epoch: 36 / 50\n",
            "epoch train loss = 0.034444, epoch test loss = 0.031752, Time 00:00:52\n"
          ]
        },
        {
          "output_type": "stream",
          "name": "stderr",
          "text": [
            "\r 76%|███████▌  | 38/50 [33:16<10:30, 52.52s/it]"
          ]
        },
        {
          "output_type": "stream",
          "name": "stdout",
          "text": [
            "epoch: 37 / 50\n",
            "epoch train loss = 0.034010, epoch test loss = 0.031397, Time 00:00:52\n"
          ]
        },
        {
          "output_type": "stream",
          "name": "stderr",
          "text": [
            "\r 78%|███████▊  | 39/50 [34:09<09:37, 52.51s/it]"
          ]
        },
        {
          "output_type": "stream",
          "name": "stdout",
          "text": [
            "epoch: 38 / 50\n",
            "epoch train loss = 0.033618, epoch test loss = 0.030903, Time 00:00:52\n"
          ]
        },
        {
          "output_type": "stream",
          "name": "stderr",
          "text": [
            "\r 80%|████████  | 40/50 [35:02<08:47, 52.74s/it]"
          ]
        },
        {
          "output_type": "stream",
          "name": "stdout",
          "text": [
            "epoch: 39 / 50\n",
            "epoch train loss = 0.033198, epoch test loss = 0.030752, Time 00:00:53\n"
          ]
        },
        {
          "output_type": "stream",
          "name": "stderr",
          "text": [
            "\r 82%|████████▏ | 41/50 [35:54<07:53, 52.66s/it]"
          ]
        },
        {
          "output_type": "stream",
          "name": "stdout",
          "text": [
            "epoch: 40 / 50\n",
            "epoch train loss = 0.032795, epoch test loss = 0.030362, Time 00:00:52\n"
          ]
        },
        {
          "output_type": "stream",
          "name": "stderr",
          "text": [
            "\r 84%|████████▍ | 42/50 [36:46<07:00, 52.51s/it]"
          ]
        },
        {
          "output_type": "stream",
          "name": "stdout",
          "text": [
            "epoch: 41 / 50\n",
            "epoch train loss = 0.032532, epoch test loss = 0.030211, Time 00:00:52\n"
          ]
        },
        {
          "output_type": "stream",
          "name": "stderr",
          "text": [
            "\r 86%|████████▌ | 43/50 [37:39<06:07, 52.54s/it]"
          ]
        },
        {
          "output_type": "stream",
          "name": "stdout",
          "text": [
            "epoch: 42 / 50\n",
            "epoch train loss = 0.032276, epoch test loss = 0.029490, Time 00:00:52\n"
          ]
        },
        {
          "output_type": "stream",
          "name": "stderr",
          "text": [
            "\r 88%|████████▊ | 44/50 [38:32<05:15, 52.64s/it]"
          ]
        },
        {
          "output_type": "stream",
          "name": "stdout",
          "text": [
            "epoch: 43 / 50\n",
            "epoch train loss = 0.031795, epoch test loss = 0.029281, Time 00:00:52\n"
          ]
        },
        {
          "output_type": "stream",
          "name": "stderr",
          "text": [
            "\r 90%|█████████ | 45/50 [39:25<04:24, 52.85s/it]"
          ]
        },
        {
          "output_type": "stream",
          "name": "stdout",
          "text": [
            "epoch: 44 / 50\n",
            "epoch train loss = 0.031511, epoch test loss = 0.029069, Time 00:00:53\n"
          ]
        },
        {
          "output_type": "stream",
          "name": "stderr",
          "text": [
            "\r 92%|█████████▏| 46/50 [40:18<03:31, 52.76s/it]"
          ]
        },
        {
          "output_type": "stream",
          "name": "stdout",
          "text": [
            "epoch: 45 / 50\n",
            "epoch train loss = 0.031246, epoch test loss = 0.028821, Time 00:00:52\n"
          ]
        },
        {
          "output_type": "stream",
          "name": "stderr",
          "text": [
            "\r 94%|█████████▍| 47/50 [41:10<02:37, 52.52s/it]"
          ]
        },
        {
          "output_type": "stream",
          "name": "stdout",
          "text": [
            "epoch: 46 / 50\n",
            "epoch train loss = 0.031053, epoch test loss = 0.028532, Time 00:00:51\n"
          ]
        },
        {
          "output_type": "stream",
          "name": "stderr",
          "text": [
            "\r 96%|█████████▌| 48/50 [42:02<01:44, 52.46s/it]"
          ]
        },
        {
          "output_type": "stream",
          "name": "stdout",
          "text": [
            "epoch: 47 / 50\n",
            "epoch train loss = 0.030734, epoch test loss = 0.028193, Time 00:00:52\n"
          ]
        },
        {
          "output_type": "stream",
          "name": "stderr",
          "text": [
            "\r 98%|█████████▊| 49/50 [42:54<00:52, 52.35s/it]"
          ]
        },
        {
          "output_type": "stream",
          "name": "stdout",
          "text": [
            "epoch: 48 / 50\n",
            "epoch train loss = 0.030270, epoch test loss = 0.028126, Time 00:00:52\n"
          ]
        },
        {
          "output_type": "stream",
          "name": "stderr",
          "text": [
            "100%|██████████| 50/50 [43:46<00:00, 52.53s/it]"
          ]
        },
        {
          "output_type": "stream",
          "name": "stdout",
          "text": [
            "epoch: 49 / 50\n",
            "epoch train loss = 0.030188, epoch test loss = 0.027869, Time 00:00:52\n"
          ]
        },
        {
          "output_type": "stream",
          "name": "stderr",
          "text": [
            "\n"
          ]
        }
      ]
    },
    {
      "cell_type": "markdown",
      "source": [
        "Test"
      ],
      "metadata": {
        "id": "GbF7knTYiDku"
      }
    },
    {
      "cell_type": "code",
      "source": [
        "import numpy as np\n",
        "#Use skimage package to deal image\n",
        "from skimage import io\n",
        "from skimage.io import imread\n",
        "import matplotlib.pyplot as plt\n",
        "\n",
        "from data_process import label2colar,result2image,resize_image_to_256,resize_result_to_original"
      ],
      "metadata": {
        "id": "ocQfhheABSTi"
      },
      "execution_count": 22,
      "outputs": []
    },
    {
      "cell_type": "code",
      "source": [
        "device = torch.device('cuda' if torch.cuda.is_available() else 'cpu')\n",
        "\n",
        "if __name__ =='__main__':\n",
        "    imgA = imread('drive/My Drive/carseg_data/images/black_5_doors/no_segmentation/0001.png/')\n",
        "    imgA = resize_image_to_256(imgA)\n",
        "\n",
        "    imgA = transform(imgA)\n",
        "    imgA = imgA.to(device)\n",
        "    imgA = imgA.unsqueeze(0)\n",
        "    output = model(imgA)\n",
        "    output = torch.sigmoid(output)\n",
        "\n",
        "    output_np = output.cpu().detach().numpy().copy()  # output_np.shape = (1, 10, 256, 256)\n",
        "    #print(output_np.shape)   #(1, 10, 256, 256)\n",
        "    output_np = (np.argmax(output_np, axis=1) * 10).astype(np.uint8)\n",
        "    #print(output_np.shape)  #(1,256, 256)\n",
        "    #print(output_np[0,...])\n",
        "    plt.subplot(1, 2, 1)\n",
        "    plt.imshow(label2colar(black_arrays[0,:,:,3]))\n",
        "    plt.subplot(1, 2, 2)\n",
        "    plt.imshow(label2colar(output_np[0, ...]))\n"
      ],
      "metadata": {
        "colab": {
          "base_uri": "https://localhost:8080/",
          "height": 291
        },
        "id": "hJOFku4Zg_IN",
        "outputId": "1dea9096-1cad-4f91-8e49-b57059c306ed"
      },
      "execution_count": 23,
      "outputs": [
        {
          "output_type": "display_data",
          "data": {
            "text/plain": [
              "<Figure size 640x480 with 2 Axes>"
            ],
            "image/png": "[encoded data removed]"
          },
          "metadata": {}
        }
      ]
    }
  ]
}