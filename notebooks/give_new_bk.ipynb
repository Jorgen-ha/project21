{
 "cells": [
  {
   "cell_type": "markdown",
   "metadata": {},
   "source": [
    "# Change the background"
   ]
  },
  {
   "cell_type": "markdown",
   "metadata": {},
   "source": [
    "Distribution:\n",
    "- 249 - blur\n",
    "- 249 - bright\n",
    "- 249 - flip\n",
    "- 249 - rot\n",
    "- 400 - mix of above"
   ]
  },
  {
   "cell_type": "code",
   "execution_count": 1,
   "metadata": {},
   "outputs": [],
   "source": [
    "%matplotlib inline\n",
    "import matplotlib\n",
    "import numpy as np\n",
    "import pandas as pd\n",
    "import matplotlib.pyplot as plt\n",
    "import glob\n",
    "import os\n",
    "import cv2\n",
    "from PIL import Image\n",
    "\n",
    "from IPython.display import clear_output\n",
    "from skimage.io import imread\n",
    "from skimage.transform import resize\n",
    "from skimage import io, transform, color, data_dir, draw, img_as_ubyte\n",
    "from data_process import label_2_colour, resize_2_256, result_2_image"
   ]
  },
  {
   "cell_type": "code",
   "execution_count": null,
   "metadata": {},
   "outputs": [],
   "source": [
    "# Read all the new images with different background from the original from its folder\n",
    "new_bk_path = \"../data/carseg_data/new_background/\"\n",
    "new_bk_names = glob.glob(new_bk_path + \"*.png\")\n",
    "new_bk_names.sort()\n",
    "len(new_bk_names)"
   ]
  },
  {
   "cell_type": "code",
   "execution_count": null,
   "metadata": {},
   "outputs": [],
   "source": [
    "def combine_image_and_labels(img_path, label_path):\n",
    "    \n",
    "    org_arr = np.load(label_path)\n",
    "    aug_arr = cv2.imread(img_path)\n",
    "    aug_arr = cv2.cvtColor(aug_arr, cv2.COLOR_BGR2RGB) # cv2 reads bgr default\n",
    "    new_arr = np.zeros_like(org_arr)\n",
    "    new_arr[:,:,0:3] = aug_arr[:,:,0:3] # take the rgb info from the new image\n",
    "    new_arr[:,:,3] = org_arr[:,:,3]     # take the label info from the original image\n",
    "\n",
    "    return new_arr\n",
    "\n",
    "def find_corresponding_label(img_path):\n",
    "    \"\"\"Function to find the corresponding label for the image\n",
    "\n",
    "    Args:\n",
    "        img_path (str): path to the image\n",
    "        all_labels (list): list of all the labels\n",
    "\n",
    "    Returns:\n",
    "        str: path to the corresponding label\n",
    "    \"\"\"\n",
    "    img_name = img_path.split(\"/\")[-1]\n",
    "    label_name = img_name.split(\".\")[0][:-3] + \".npy\"   # Removes the _bk from name and adds .npy\n",
    "    label_path = os.path.join(\"../data/carseg_data/augmented_arrays\", label_name)\n",
    "    return label_path\n",
    "\n",
    "# Relate the image with new background to its corresponding label\n",
    "org_names = glob.glob(\"../data/carseg_data/augmented_arrays/*.npy\")\n",
    "org_names.sort()\n",
    "\n",
    "for img in new_bk_names:\n",
    "    name = img.split(\"/\")[-1].split(\".\")[0] \n",
    "    lab = find_corresponding_label(img)\n",
    "    new_arr = combine_image_and_labels(img, lab)\n",
    "    np.save(os.path.join(\"../data/carseg_data/new_background_arrays/\", \"{}.npy\".format(name)), new_arr)\n"
   ]
  },
  {
   "cell_type": "code",
   "execution_count": null,
   "metadata": {},
   "outputs": [],
   "source": [
    "# Visualise the new images with new background side by side with labels\n",
    "import time\n",
    "new_arrs = glob.glob(\"../data/new_dataset/*.npy\")[:100]\n",
    "new_arrs.sort()\n",
    "new_arrs = np.array([np.load(arr) for arr in new_arrs])\n",
    "for i in range(len(new_arrs)):\n",
    "    plt.figure(figsize=(8,8))\n",
    "    plt.subplot(1,2,1)\n",
    "    plt.imshow(new_arrs[i][:,:,0:3])\n",
    "    plt.subplot(1,2,2)\n",
    "    plt.imshow(label_2_colour(new_arrs[i][:,:,3]))\n",
    "    plt.show()\n",
    "    time.sleep(0.001)\n",
    "    clear_output(wait=True)"
   ]
  },
  {
   "cell_type": "code",
   "execution_count": null,
   "metadata": {},
   "outputs": [],
   "source": [
    "# Function to randomly choose a given number of images from each directory\n",
    "import random\n",
    "import shutil\n",
    "def pick_random_imgs(dir_path, dest_path, n):\n",
    "    \"\"\"Picks n random images from a directory and copies them to a destination directory\n",
    "\n",
    "    Args:\n",
    "        dir_path (str): string path to the directory\n",
    "        dest_path (str): string path to the destination directory\n",
    "        n (int): number of images to pick\n",
    "    \"\"\"\n",
    "    categories = [\"rot\", \"blur\", \"bright\", \"flip\"]\n",
    "    for cat in categories:\n",
    "        files = glob.glob(os.path.join(dir_path, cat + \"*.png\"))\n",
    "        selected_files = random.sample(files, n)\n",
    "        for file in selected_files:\n",
    "            shutil.copy(file, dest_path)\n",
    "    "
   ]
  },
  {
   "cell_type": "code",
   "execution_count": null,
   "metadata": {},
   "outputs": [],
   "source": [
    "# Copy the images to a new directory\n",
    "copy_from_here = \"../data/carseg_data/augmented_images/\"\n",
    "copy_to_here = \"../data/carseg_data/upload_us/\"\n",
    "pick_random_imgs(copy_from_here, copy_to_here, 350)"
   ]
  },
  {
   "cell_type": "code",
   "execution_count": null,
   "metadata": {},
   "outputs": [],
   "source": [
    "# display the image\n",
    "img = cv2.imread(copy_to_here + \"rot_911.png\")\n",
    "img = cv2.cvtColor(img, cv2.COLOR_BGR2RGB)\n",
    "plt.imshow(img)\n",
    "plt.show()\n"
   ]
  }
 ],
 "metadata": {
  "kernelspec": {
   "display_name": "pfas",
   "language": "python",
   "name": "python3"
  },
  "language_info": {
   "codemirror_mode": {
    "name": "ipython",
    "version": 3
   },
   "file_extension": ".py",
   "mimetype": "text/x-python",
   "name": "python",
   "nbconvert_exporter": "python",
   "pygments_lexer": "ipython3",
   "version": "3.10.9"
  }
 },
 "nbformat": 4,
 "nbformat_minor": 2
}
