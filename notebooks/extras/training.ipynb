{
 "cells": [
  {
   "cell_type": "markdown",
   "metadata": {},
   "source": [
    "# Notebook for training the different models"
   ]
  },
  {
   "cell_type": "code",
   "execution_count": 4,
   "metadata": {},
   "outputs": [],
   "source": [
    "import torch\n",
    "from torch import nn\n",
    "import numpy as np\n",
    "import torch.optim as optim\n",
    "from tqdm import trange\n",
    "from datetime import datetime\n",
    "import sys \n",
    "sys.path.append(\"../../src/\")\n",
    "from data_process import getDataloaders\n",
    "# Import models\n",
    "from resnest import resnest50, resnest101, resnest200\n",
    "from unet import make_unet\n",
    "from u2net import make_u2net, multi_bce_loss_fusion"
   ]
  },
  {
   "cell_type": "markdown",
   "metadata": {},
   "source": [
    "## The loop"
   ]
  },
  {
   "cell_type": "code",
   "execution_count": 3,
   "metadata": {},
   "outputs": [],
   "source": [
    "def train(model, train_dataloader, val_dataloader, optimizer, criterion=None, epo_num=10):\n",
    "    device = torch.device('cuda' if torch.cuda.is_available() else 'cpu')\n",
    "\n",
    "    model_name = model.name\n",
    "    model = model.to(device)\n",
    "    criterion = criterion.to(device) if criterion else None\n",
    "    \n",
    "    all_train_iter_loss = []\n",
    "    all_val_iter_loss = []\n",
    "\n",
    "    prev_time = datetime.now() # start timing\n",
    "    for epo in trange(epo_num):\n",
    "        \n",
    "        train_loss = 0\n",
    "        model.train()\n",
    "        for _, (img, mask) in enumerate(train_dataloader):\n",
    "            img, mask = img.to(device), mask.to(device) # img.shape [12, 3, 256, 256]\n",
    "                                                        # mask.shape [12, 10, 256, 256]\n",
    "             \n",
    "            optimizer.zero_grad()\n",
    "            if model_name == 'U2NET' or model_name == 'U2NET-small':    # Calculates loss differently\n",
    "                d0, d1, d2, d3, d4, d5, d6 = model(img)\n",
    "                _, loss = multi_bce_loss_fusion(d0, d1, d2, d3, d4, d5, d6, mask)\n",
    "\n",
    "            else:\n",
    "                output = model(img)\n",
    "                loss = criterion(output, mask)\n",
    "\n",
    "            loss.backward()\n",
    "            optimizer.step()\n",
    "\n",
    "            # save loss of each iteration\n",
    "            iter_loss = loss.item()\n",
    "            all_train_iter_loss.append(iter_loss)\n",
    "            train_loss += iter_loss\n",
    "        \n",
    "        # evaluate and save model each 10 epo\n",
    "        if np.mod(epo, 10) == 0:\n",
    "            val_loss = 0\n",
    "            model.eval()\n",
    "            with torch.no_grad():\n",
    "                for _, (img, mask) in enumerate(val_dataloader):\n",
    "                    img, mask = img.to(device), mask.to(device)\n",
    "                    optimizer.zero_grad()\n",
    "                    if model_name == 'U2NET' or model_name == 'U2NET-small':\n",
    "                        d0, d1, d2, d3, d4, d5, d6 = model(img)\n",
    "                        _, loss = multi_bce_loss_fusion(d0, d1, d2, d3, d4, d5, d6, mask)\n",
    "                    else:\n",
    "                        output = model(img)\n",
    "                        loss = criterion(output, mask)\n",
    "                        \n",
    "                    iter_loss = loss.item()\n",
    "                    all_val_iter_loss.append(iter_loss)\n",
    "                    val_loss += iter_loss\n",
    "            \n",
    "            # save model\n",
    "            filename = f'{model_name}_{epo}_loss_trian_{round(train_loss/len(train_dataloader),5)}\\\n",
    "                        _val_{round(val_loss/len(val_dataloader),5)}.pt'\n",
    "            torch.save(model, filename)\n",
    "            print(f\"\\nSaving {filename}\")\n",
    "\n",
    "        cur_time = datetime.now()\n",
    "        h, remainder = divmod((cur_time - prev_time).seconds, 3600)\n",
    "        m, s = divmod(remainder, 60)\n",
    "        time_str = \"Time %02d:%02d:%02d\" % (h, m, s)\n",
    "        prev_time = cur_time\n",
    "\n",
    "        print(f'\\nepoch: {epo}/{epo_num}')\n",
    "        print(f'\\nepoch train loss = {train_loss/len(train_dataloader)}\\nepoch\\\n",
    "              val loss = {val_loss/len(val_dataloader)}, {time_str}')\n",
    "\n",
    "    return model"
   ]
  },
  {
   "cell_type": "code",
   "execution_count": 5,
   "metadata": {},
   "outputs": [
    {
     "name": "stderr",
     "output_type": "stream",
     "text": [
      "  0%|          | 0/1 [00:00<?, ?it/s]\n"
     ]
    },
    {
     "ename": "KeyboardInterrupt",
     "evalue": "",
     "output_type": "error",
     "traceback": [
      "\u001b[0;31m---------------------------------------------------------------------------\u001b[0m",
      "\u001b[0;31mKeyboardInterrupt\u001b[0m                         Traceback (most recent call last)",
      "\u001b[1;32m/home/jorge/DTU/Deep-Learning/project/notebooks/training.ipynb Cell 7\u001b[0m line \u001b[0;36m7\n\u001b[1;32m      <a href='vscode-notebook-cell:/home/jorge/DTU/Deep-Learning/project/notebooks/training.ipynb#X10sZmlsZQ%3D%3D?line=3'>4</a>\u001b[0m criterion \u001b[39m=\u001b[39m nn\u001b[39m.\u001b[39mCrossEntropyLoss()                   \u001b[39m# <<< CHANGE LOSS HERE!! nn.CrossEntropyLoss() or nn.BCELoss()\u001b[39;00m\n\u001b[1;32m      <a href='vscode-notebook-cell:/home/jorge/DTU/Deep-Learning/project/notebooks/training.ipynb#X10sZmlsZQ%3D%3D?line=4'>5</a>\u001b[0m optimizer \u001b[39m=\u001b[39m optim\u001b[39m.\u001b[39mAdam(model\u001b[39m.\u001b[39mparameters(), lr\u001b[39m=\u001b[39m\u001b[39m1e-5\u001b[39m) \u001b[39m# <<< CHANGE OPTIMIZER HERE!! optim.Adam() or optim.SGD()\u001b[39;00m\n\u001b[0;32m----> <a href='vscode-notebook-cell:/home/jorge/DTU/Deep-Learning/project/notebooks/training.ipynb#X10sZmlsZQ%3D%3D?line=6'>7</a>\u001b[0m model \u001b[39m=\u001b[39m train(model, tload, vload, optimizer, criterion\u001b[39m=\u001b[39;49mcriterion, epo_num\u001b[39m=\u001b[39;49m\u001b[39m1\u001b[39;49m) \n",
      "\u001b[1;32m/home/jorge/DTU/Deep-Learning/project/notebooks/training.ipynb Cell 7\u001b[0m line \u001b[0;36m2\n\u001b[1;32m     <a href='vscode-notebook-cell:/home/jorge/DTU/Deep-Learning/project/notebooks/training.ipynb#X10sZmlsZQ%3D%3D?line=19'>20</a>\u001b[0m optimizer\u001b[39m.\u001b[39mzero_grad()\n\u001b[1;32m     <a href='vscode-notebook-cell:/home/jorge/DTU/Deep-Learning/project/notebooks/training.ipynb#X10sZmlsZQ%3D%3D?line=20'>21</a>\u001b[0m \u001b[39mif\u001b[39;00m model_name \u001b[39m==\u001b[39m \u001b[39m'\u001b[39m\u001b[39mU2NET\u001b[39m\u001b[39m'\u001b[39m \u001b[39mor\u001b[39;00m model_name \u001b[39m==\u001b[39m \u001b[39m'\u001b[39m\u001b[39mU2NET-small\u001b[39m\u001b[39m'\u001b[39m:    \u001b[39m# Calculates loss differently\u001b[39;00m\n\u001b[0;32m---> <a href='vscode-notebook-cell:/home/jorge/DTU/Deep-Learning/project/notebooks/training.ipynb#X10sZmlsZQ%3D%3D?line=21'>22</a>\u001b[0m     d0, d1, d2, d3, d4, d5, d6 \u001b[39m=\u001b[39m model(img)\n\u001b[1;32m     <a href='vscode-notebook-cell:/home/jorge/DTU/Deep-Learning/project/notebooks/training.ipynb#X10sZmlsZQ%3D%3D?line=22'>23</a>\u001b[0m     _, loss \u001b[39m=\u001b[39m multi_bce_loss_fusion(d0, d1, d2, d3, d4, d5, d6, mask)\n\u001b[1;32m     <a href='vscode-notebook-cell:/home/jorge/DTU/Deep-Learning/project/notebooks/training.ipynb#X10sZmlsZQ%3D%3D?line=24'>25</a>\u001b[0m \u001b[39melse\u001b[39;00m:\n",
      "File \u001b[0;32m~/miniconda3/envs/pfas/lib/python3.10/site-packages/torch/nn/modules/module.py:1501\u001b[0m, in \u001b[0;36mModule._call_impl\u001b[0;34m(self, *args, **kwargs)\u001b[0m\n\u001b[1;32m   1496\u001b[0m \u001b[39m# If we don't have any hooks, we want to skip the rest of the logic in\u001b[39;00m\n\u001b[1;32m   1497\u001b[0m \u001b[39m# this function, and just call forward.\u001b[39;00m\n\u001b[1;32m   1498\u001b[0m \u001b[39mif\u001b[39;00m \u001b[39mnot\u001b[39;00m (\u001b[39mself\u001b[39m\u001b[39m.\u001b[39m_backward_hooks \u001b[39mor\u001b[39;00m \u001b[39mself\u001b[39m\u001b[39m.\u001b[39m_backward_pre_hooks \u001b[39mor\u001b[39;00m \u001b[39mself\u001b[39m\u001b[39m.\u001b[39m_forward_hooks \u001b[39mor\u001b[39;00m \u001b[39mself\u001b[39m\u001b[39m.\u001b[39m_forward_pre_hooks\n\u001b[1;32m   1499\u001b[0m         \u001b[39mor\u001b[39;00m _global_backward_pre_hooks \u001b[39mor\u001b[39;00m _global_backward_hooks\n\u001b[1;32m   1500\u001b[0m         \u001b[39mor\u001b[39;00m _global_forward_hooks \u001b[39mor\u001b[39;00m _global_forward_pre_hooks):\n\u001b[0;32m-> 1501\u001b[0m     \u001b[39mreturn\u001b[39;00m forward_call(\u001b[39m*\u001b[39;49margs, \u001b[39m*\u001b[39;49m\u001b[39m*\u001b[39;49mkwargs)\n\u001b[1;32m   1502\u001b[0m \u001b[39m# Do not call functions when jit is used\u001b[39;00m\n\u001b[1;32m   1503\u001b[0m full_backward_hooks, non_full_backward_hooks \u001b[39m=\u001b[39m [], []\n",
      "File \u001b[0;32m~/DTU/Deep-Learning/project/notebooks/u2net.py:337\u001b[0m, in \u001b[0;36mU2NET.forward\u001b[0;34m(self, x)\u001b[0m\n\u001b[1;32m    334\u001b[0m \u001b[39mdef\u001b[39;00m \u001b[39mforward\u001b[39m(\u001b[39mself\u001b[39m,x):\n\u001b[1;32m    335\u001b[0m     hx \u001b[39m=\u001b[39m x\n\u001b[0;32m--> 337\u001b[0m     hx1 \u001b[39m=\u001b[39m \u001b[39mself\u001b[39;49m\u001b[39m.\u001b[39;49mstage1(hx) \u001b[39m#stage 1\u001b[39;00m\n\u001b[1;32m    338\u001b[0m     hx \u001b[39m=\u001b[39m \u001b[39mself\u001b[39m\u001b[39m.\u001b[39mpool12(hx1)\n\u001b[1;32m    340\u001b[0m     hx2 \u001b[39m=\u001b[39m \u001b[39mself\u001b[39m\u001b[39m.\u001b[39mstage2(hx) \u001b[39m#stage 2\u001b[39;00m\n",
      "File \u001b[0;32m~/miniconda3/envs/pfas/lib/python3.10/site-packages/torch/nn/modules/module.py:1501\u001b[0m, in \u001b[0;36mModule._call_impl\u001b[0;34m(self, *args, **kwargs)\u001b[0m\n\u001b[1;32m   1496\u001b[0m \u001b[39m# If we don't have any hooks, we want to skip the rest of the logic in\u001b[39;00m\n\u001b[1;32m   1497\u001b[0m \u001b[39m# this function, and just call forward.\u001b[39;00m\n\u001b[1;32m   1498\u001b[0m \u001b[39mif\u001b[39;00m \u001b[39mnot\u001b[39;00m (\u001b[39mself\u001b[39m\u001b[39m.\u001b[39m_backward_hooks \u001b[39mor\u001b[39;00m \u001b[39mself\u001b[39m\u001b[39m.\u001b[39m_backward_pre_hooks \u001b[39mor\u001b[39;00m \u001b[39mself\u001b[39m\u001b[39m.\u001b[39m_forward_hooks \u001b[39mor\u001b[39;00m \u001b[39mself\u001b[39m\u001b[39m.\u001b[39m_forward_pre_hooks\n\u001b[1;32m   1499\u001b[0m         \u001b[39mor\u001b[39;00m _global_backward_pre_hooks \u001b[39mor\u001b[39;00m _global_backward_hooks\n\u001b[1;32m   1500\u001b[0m         \u001b[39mor\u001b[39;00m _global_forward_hooks \u001b[39mor\u001b[39;00m _global_forward_pre_hooks):\n\u001b[0;32m-> 1501\u001b[0m     \u001b[39mreturn\u001b[39;00m forward_call(\u001b[39m*\u001b[39;49margs, \u001b[39m*\u001b[39;49m\u001b[39m*\u001b[39;49mkwargs)\n\u001b[1;32m   1502\u001b[0m \u001b[39m# Do not call functions when jit is used\u001b[39;00m\n\u001b[1;32m   1503\u001b[0m full_backward_hooks, non_full_backward_hooks \u001b[39m=\u001b[39m [], []\n",
      "File \u001b[0;32m~/DTU/Deep-Learning/project/notebooks/u2net.py:77\u001b[0m, in \u001b[0;36mRSU7.forward\u001b[0;34m(self, x)\u001b[0m\n\u001b[1;32m     74\u001b[0m hx \u001b[39m=\u001b[39m \u001b[39mself\u001b[39m\u001b[39m.\u001b[39mpool5(hx5)\n\u001b[1;32m     76\u001b[0m hx6 \u001b[39m=\u001b[39m \u001b[39mself\u001b[39m\u001b[39m.\u001b[39mrebnconv6(hx)\n\u001b[0;32m---> 77\u001b[0m hx7 \u001b[39m=\u001b[39m \u001b[39mself\u001b[39;49m\u001b[39m.\u001b[39;49mrebnconv7(hx6)\n\u001b[1;32m     79\u001b[0m hx6d \u001b[39m=\u001b[39m  \u001b[39mself\u001b[39m\u001b[39m.\u001b[39mrebnconv6d(torch\u001b[39m.\u001b[39mcat((hx7,hx6),\u001b[39m1\u001b[39m))\n\u001b[1;32m     80\u001b[0m hx6dup \u001b[39m=\u001b[39m _upsample_like(hx6d,hx5)\n",
      "File \u001b[0;32m~/miniconda3/envs/pfas/lib/python3.10/site-packages/torch/nn/modules/module.py:1501\u001b[0m, in \u001b[0;36mModule._call_impl\u001b[0;34m(self, *args, **kwargs)\u001b[0m\n\u001b[1;32m   1496\u001b[0m \u001b[39m# If we don't have any hooks, we want to skip the rest of the logic in\u001b[39;00m\n\u001b[1;32m   1497\u001b[0m \u001b[39m# this function, and just call forward.\u001b[39;00m\n\u001b[1;32m   1498\u001b[0m \u001b[39mif\u001b[39;00m \u001b[39mnot\u001b[39;00m (\u001b[39mself\u001b[39m\u001b[39m.\u001b[39m_backward_hooks \u001b[39mor\u001b[39;00m \u001b[39mself\u001b[39m\u001b[39m.\u001b[39m_backward_pre_hooks \u001b[39mor\u001b[39;00m \u001b[39mself\u001b[39m\u001b[39m.\u001b[39m_forward_hooks \u001b[39mor\u001b[39;00m \u001b[39mself\u001b[39m\u001b[39m.\u001b[39m_forward_pre_hooks\n\u001b[1;32m   1499\u001b[0m         \u001b[39mor\u001b[39;00m _global_backward_pre_hooks \u001b[39mor\u001b[39;00m _global_backward_hooks\n\u001b[1;32m   1500\u001b[0m         \u001b[39mor\u001b[39;00m _global_forward_hooks \u001b[39mor\u001b[39;00m _global_forward_pre_hooks):\n\u001b[0;32m-> 1501\u001b[0m     \u001b[39mreturn\u001b[39;00m forward_call(\u001b[39m*\u001b[39;49margs, \u001b[39m*\u001b[39;49m\u001b[39m*\u001b[39;49mkwargs)\n\u001b[1;32m   1502\u001b[0m \u001b[39m# Do not call functions when jit is used\u001b[39;00m\n\u001b[1;32m   1503\u001b[0m full_backward_hooks, non_full_backward_hooks \u001b[39m=\u001b[39m [], []\n",
      "File \u001b[0;32m~/DTU/Deep-Learning/project/notebooks/u2net.py:16\u001b[0m, in \u001b[0;36mREBNCONV.forward\u001b[0;34m(self, x)\u001b[0m\n\u001b[1;32m     14\u001b[0m \u001b[39mdef\u001b[39;00m \u001b[39mforward\u001b[39m(\u001b[39mself\u001b[39m,x):\n\u001b[1;32m     15\u001b[0m     hx \u001b[39m=\u001b[39m x\n\u001b[0;32m---> 16\u001b[0m     xout \u001b[39m=\u001b[39m \u001b[39mself\u001b[39m\u001b[39m.\u001b[39mrelu_s1(\u001b[39mself\u001b[39;49m\u001b[39m.\u001b[39;49mbn_s1(\u001b[39mself\u001b[39;49m\u001b[39m.\u001b[39;49mconv_s1(hx)))\n\u001b[1;32m     18\u001b[0m     \u001b[39mreturn\u001b[39;00m xout\n",
      "File \u001b[0;32m~/miniconda3/envs/pfas/lib/python3.10/site-packages/torch/nn/modules/module.py:1501\u001b[0m, in \u001b[0;36mModule._call_impl\u001b[0;34m(self, *args, **kwargs)\u001b[0m\n\u001b[1;32m   1496\u001b[0m \u001b[39m# If we don't have any hooks, we want to skip the rest of the logic in\u001b[39;00m\n\u001b[1;32m   1497\u001b[0m \u001b[39m# this function, and just call forward.\u001b[39;00m\n\u001b[1;32m   1498\u001b[0m \u001b[39mif\u001b[39;00m \u001b[39mnot\u001b[39;00m (\u001b[39mself\u001b[39m\u001b[39m.\u001b[39m_backward_hooks \u001b[39mor\u001b[39;00m \u001b[39mself\u001b[39m\u001b[39m.\u001b[39m_backward_pre_hooks \u001b[39mor\u001b[39;00m \u001b[39mself\u001b[39m\u001b[39m.\u001b[39m_forward_hooks \u001b[39mor\u001b[39;00m \u001b[39mself\u001b[39m\u001b[39m.\u001b[39m_forward_pre_hooks\n\u001b[1;32m   1499\u001b[0m         \u001b[39mor\u001b[39;00m _global_backward_pre_hooks \u001b[39mor\u001b[39;00m _global_backward_hooks\n\u001b[1;32m   1500\u001b[0m         \u001b[39mor\u001b[39;00m _global_forward_hooks \u001b[39mor\u001b[39;00m _global_forward_pre_hooks):\n\u001b[0;32m-> 1501\u001b[0m     \u001b[39mreturn\u001b[39;00m forward_call(\u001b[39m*\u001b[39;49margs, \u001b[39m*\u001b[39;49m\u001b[39m*\u001b[39;49mkwargs)\n\u001b[1;32m   1502\u001b[0m \u001b[39m# Do not call functions when jit is used\u001b[39;00m\n\u001b[1;32m   1503\u001b[0m full_backward_hooks, non_full_backward_hooks \u001b[39m=\u001b[39m [], []\n",
      "File \u001b[0;32m~/miniconda3/envs/pfas/lib/python3.10/site-packages/torch/nn/modules/batchnorm.py:171\u001b[0m, in \u001b[0;36m_BatchNorm.forward\u001b[0;34m(self, input)\u001b[0m\n\u001b[1;32m    164\u001b[0m     bn_training \u001b[39m=\u001b[39m (\u001b[39mself\u001b[39m\u001b[39m.\u001b[39mrunning_mean \u001b[39mis\u001b[39;00m \u001b[39mNone\u001b[39;00m) \u001b[39mand\u001b[39;00m (\u001b[39mself\u001b[39m\u001b[39m.\u001b[39mrunning_var \u001b[39mis\u001b[39;00m \u001b[39mNone\u001b[39;00m)\n\u001b[1;32m    166\u001b[0m \u001b[39m\u001b[39m\u001b[39mr\u001b[39m\u001b[39m\"\"\"\u001b[39;00m\n\u001b[1;32m    167\u001b[0m \u001b[39mBuffers are only updated if they are to be tracked and we are in training mode. Thus they only need to be\u001b[39;00m\n\u001b[1;32m    168\u001b[0m \u001b[39mpassed when the update should occur (i.e. in training mode when they are tracked), or when buffer stats are\u001b[39;00m\n\u001b[1;32m    169\u001b[0m \u001b[39mused for normalization (i.e. in eval mode when buffers are not None).\u001b[39;00m\n\u001b[1;32m    170\u001b[0m \u001b[39m\"\"\"\u001b[39;00m\n\u001b[0;32m--> 171\u001b[0m \u001b[39mreturn\u001b[39;00m F\u001b[39m.\u001b[39;49mbatch_norm(\n\u001b[1;32m    172\u001b[0m     \u001b[39minput\u001b[39;49m,\n\u001b[1;32m    173\u001b[0m     \u001b[39m# If buffers are not to be tracked, ensure that they won't be updated\u001b[39;49;00m\n\u001b[1;32m    174\u001b[0m     \u001b[39mself\u001b[39;49m\u001b[39m.\u001b[39;49mrunning_mean\n\u001b[1;32m    175\u001b[0m     \u001b[39mif\u001b[39;49;00m \u001b[39mnot\u001b[39;49;00m \u001b[39mself\u001b[39;49m\u001b[39m.\u001b[39;49mtraining \u001b[39mor\u001b[39;49;00m \u001b[39mself\u001b[39;49m\u001b[39m.\u001b[39;49mtrack_running_stats\n\u001b[1;32m    176\u001b[0m     \u001b[39melse\u001b[39;49;00m \u001b[39mNone\u001b[39;49;00m,\n\u001b[1;32m    177\u001b[0m     \u001b[39mself\u001b[39;49m\u001b[39m.\u001b[39;49mrunning_var \u001b[39mif\u001b[39;49;00m \u001b[39mnot\u001b[39;49;00m \u001b[39mself\u001b[39;49m\u001b[39m.\u001b[39;49mtraining \u001b[39mor\u001b[39;49;00m \u001b[39mself\u001b[39;49m\u001b[39m.\u001b[39;49mtrack_running_stats \u001b[39melse\u001b[39;49;00m \u001b[39mNone\u001b[39;49;00m,\n\u001b[1;32m    178\u001b[0m     \u001b[39mself\u001b[39;49m\u001b[39m.\u001b[39;49mweight,\n\u001b[1;32m    179\u001b[0m     \u001b[39mself\u001b[39;49m\u001b[39m.\u001b[39;49mbias,\n\u001b[1;32m    180\u001b[0m     bn_training,\n\u001b[1;32m    181\u001b[0m     exponential_average_factor,\n\u001b[1;32m    182\u001b[0m     \u001b[39mself\u001b[39;49m\u001b[39m.\u001b[39;49meps,\n\u001b[1;32m    183\u001b[0m )\n",
      "File \u001b[0;32m~/miniconda3/envs/pfas/lib/python3.10/site-packages/torch/nn/functional.py:2450\u001b[0m, in \u001b[0;36mbatch_norm\u001b[0;34m(input, running_mean, running_var, weight, bias, training, momentum, eps)\u001b[0m\n\u001b[1;32m   2447\u001b[0m \u001b[39mif\u001b[39;00m training:\n\u001b[1;32m   2448\u001b[0m     _verify_batch_size(\u001b[39minput\u001b[39m\u001b[39m.\u001b[39msize())\n\u001b[0;32m-> 2450\u001b[0m \u001b[39mreturn\u001b[39;00m torch\u001b[39m.\u001b[39;49mbatch_norm(\n\u001b[1;32m   2451\u001b[0m     \u001b[39minput\u001b[39;49m, weight, bias, running_mean, running_var, training, momentum, eps, torch\u001b[39m.\u001b[39;49mbackends\u001b[39m.\u001b[39;49mcudnn\u001b[39m.\u001b[39;49menabled\n\u001b[1;32m   2452\u001b[0m )\n",
      "\u001b[0;31mKeyboardInterrupt\u001b[0m: "
     ]
    }
   ],
   "source": [
    "if __name__ == \"__main__\":\n",
    "    tload, vload = getDataloaders('../../data/train.npy', batch_size=2)\n",
    "    model = make_u2net()                                # <<< CHANGE MODEL HERE!! resnest101(), resnest200(), make_unet() or make_u2net()\n",
    "    criterion = nn.CrossEntropyLoss()                   # <<< CHANGE LOSS HERE!! nn.CrossEntropyLoss() or nn.BCELoss()\n",
    "    optimizer = optim.Adam(model.parameters(), lr=1e-5) # <<< CHANGE OPTIMIZER HERE!! optim.Adam() or optim.SGD()\n",
    "    \n",
    "    model = train(model, tload, vload, optimizer, criterion=criterion, epo_num=1) "
   ]
  }
 ],
 "metadata": {
  "kernelspec": {
   "display_name": "pfas",
   "language": "python",
   "name": "python3"
  },
  "language_info": {
   "codemirror_mode": {
    "name": "ipython",
    "version": 3
   },
   "file_extension": ".py",
   "mimetype": "text/x-python",
   "name": "python",
   "nbconvert_exporter": "python",
   "pygments_lexer": "ipython3",
   "version": "3.10.9"
  }
 },
 "nbformat": 4,
 "nbformat_minor": 2
}
