{
 "cells": [
  {
   "cell_type": "markdown",
   "metadata": {},
   "source": [
    "# Implementation of the U-Net architechture\n",
    "Ref: [https://arxiv.org/abs/1505.04597](https://arxiv.org/abs/1505.04597) "
   ]
  },
  {
   "cell_type": "code",
   "execution_count": 20,
   "metadata": {},
   "outputs": [],
   "source": [
    "import torch\n",
    "import numpy as np\n",
    "from torchvision import transforms\n",
    "from torch.utils.data import Dataset, DataLoader, random_split\n",
    "from sklearn.preprocessing import OneHotEncoder\n",
    "import torch.nn as nn\n",
    "import torchvision.transforms.functional as TF\n",
    "from datetime import datetime\n",
    "import torch.optim as optim\n",
    "from tqdm import trange"
   ]
  },
  {
   "cell_type": "markdown",
   "metadata": {},
   "source": [
    "## Prepare datasets based on the arrays\n"
   ]
  },
  {
   "cell_type": "code",
   "execution_count": null,
   "metadata": {},
   "outputs": [],
   "source": [
    "# from google.colab import drive\n",
    "# drive.mount('/content/drive', force_remount=True)"
   ]
  },
  {
   "cell_type": "code",
   "execution_count": 21,
   "metadata": {},
   "outputs": [],
   "source": [
    "# arr_data = np.load(\"/content/drive/MyDrive/project21/latest_dataset.npy\") #path of the dataset\n",
    "arr_data = np.load(\"../../data/train.npy\") #path of the dataset"
   ]
  },
  {
   "cell_type": "code",
   "execution_count": 22,
   "metadata": {},
   "outputs": [
    {
     "data": {
      "text/plain": [
       "((834, 256, 256, 4), (2001, 256, 256, 4), (169, 256, 256, 4))"
      ]
     },
     "execution_count": 22,
     "metadata": {},
     "output_type": "execute_result"
    }
   ],
   "source": [
    "print(f\"Number of arrays: {len(arr_data)}\")\n",
    "print(arr_data .shape)\n"
   ]
  },
  {
   "cell_type": "code",
   "execution_count": 23,
   "metadata": {},
   "outputs": [],
   "source": [
    "def onehot(data, n):\n",
    "    categories = [[0, 10, 20, 30, 40, 50, 60, 70, 80, 90]]\n",
    "    encoder = OneHotEncoder(categories=categories, sparse_output=False)\n",
    "    data_flat = data.ravel()\n",
    "    onehot_encoded = encoder.fit_transform(data_flat.reshape(-1, 1))\n",
    "    onehot_encoded = onehot_encoded.reshape(256, 256, -1)\n",
    "    return onehot_encoded\n",
    "\n",
    "\n",
    "class MyDataset(Dataset):\n",
    "    def __init__(self, data):\n",
    "        self.data = data\n",
    "        self.transform = transforms.Compose([transforms.ToTensor(),\n",
    "                                             transforms.Normalize(mean=[0.485, 0.456, 0.406], \n",
    "                                                                  std=[0.229, 0.224, 0.225])])\n",
    "\n",
    "    def __len__(self):\n",
    "        return len(self.data)\n",
    "\n",
    "    def __getitem__(self, index):\n",
    "        sample = self.data[index]\n",
    "        image = sample[:,:,:3]  #rgb image\n",
    "        label = sample[:,:,3]  #label image\n",
    "\n",
    "        # change date type form numpy to tensor\n",
    "        if self.transform is not None:\n",
    "            image = self.transform(image)\n",
    "\n",
    "        label = onehot(label, 10) # (n,256,256,10)\n",
    "        label = label.transpose(2,0,1)#(n,10, 256,256)\n",
    "        label = torch.FloatTensor(label)\n",
    "\n",
    "        return image, label"
   ]
  },
  {
   "cell_type": "markdown",
   "metadata": {},
   "source": [
    "## Prepare datasets based on the images"
   ]
  },
  {
   "cell_type": "code",
   "execution_count": 24,
   "metadata": {},
   "outputs": [],
   "source": [
    "carpart = MyDataset(arr_data)\n",
    "train_size = int(0.95 * len(carpart))   # 95% for train\n",
    "test_size = len(carpart) - train_size   # 5% for validation\n",
    "train_dataset, test_dataset = random_split(carpart, [train_size, test_size])"
   ]
  },
  {
   "cell_type": "code",
   "execution_count": 25,
   "metadata": {},
   "outputs": [],
   "source": [
    "train_dataloader = DataLoader(train_dataset, batch_size=16, shuffle=True, num_workers=2)\n",
    "test_dataloader = DataLoader(test_dataset, batch_size=16, shuffle=True, num_workers=2)"
   ]
  },
  {
   "cell_type": "markdown",
   "metadata": {},
   "source": [
    "## Create the U-Net architecture\n",
    "U-Net consist of an encoder and a decoder, so let's start by defining those. \n"
   ]
  },
  {
   "cell_type": "code",
   "execution_count": 32,
   "metadata": {},
   "outputs": [],
   "source": [
    "#Architect of U_net\n",
    "class DoubleConv(nn.Module):\n",
    "    def __init__(self, in_channels, out_channels):\n",
    "        super(DoubleConv, self).__init__()\n",
    "        self.conv = nn.Sequential(\n",
    "            nn.Conv2d(in_channels, out_channels, 3, 1, 1, bias = False),\n",
    "            nn.BatchNorm2d(out_channels),\n",
    "            nn.ReLU(inplace=True),\n",
    "            nn.Conv2d(out_channels, out_channels, 3, 1, 1,bias = False),\n",
    "            nn.BatchNorm2d(out_channels),\n",
    "            nn.ReLU(inplace=True),\n",
    "        )\n",
    "\n",
    "    def forward(self, x):\n",
    "        return self.conv(x)\n",
    "\n",
    "class UNET(nn.Module):\n",
    "    def __init__(self, in_channels=3, out_channels=10, features = [64, 128, 256, 512]):\n",
    "        super(UNET, self).__init__()\n",
    "        self.name = \"UNET\"\n",
    "        self.ups = nn.ModuleList()\n",
    "        self.downs = nn.ModuleList()\n",
    "        self.pool = nn.MaxPool2d(kernel_size=2, stride=2)\n",
    "\n",
    "        #Down part of U_net\n",
    "        for feature in features:\n",
    "            self.downs.append(DoubleConv(in_channels, feature))\n",
    "            in_channels = feature\n",
    "\n",
    "        #Up\n",
    "        for feature in reversed(features):\n",
    "            self.ups.append(\n",
    "                nn.ConvTranspose2d(\n",
    "                    feature*2, feature, kernel_size=2, stride=2,\n",
    "                    )# 28*1024 -> 56 * 512\n",
    "            )\n",
    "            self.ups.append(DoubleConv(feature*2, feature))\n",
    "        #bottle\n",
    "        self.bottleneck = DoubleConv(features[-1], features[-1]*2)  #1024\n",
    "        #final FF\n",
    "        self.final_conv = nn.Conv2d(features[0], out_channels, kernel_size=1)\n",
    "\n",
    "    def forward(self, x):\n",
    "        skip_connections = []\n",
    "\n",
    "        for down in self.downs:\n",
    "            x = down(x)\n",
    "            skip_connections.append(x)\n",
    "            x = self.pool(x)\n",
    "\n",
    "        x = self.bottleneck(x)\n",
    "\n",
    "        skip_connections = skip_connections[::-1]\n",
    "\n",
    "        for idx in range(0, len(self.ups), 2):\n",
    "            x = self.ups[idx](x)\n",
    "            skip_connection = skip_connections[idx//2]\n",
    "\n",
    "            #checking\n",
    "            if x.shape != skip_connection.shape:\n",
    "                x = TF.resize(x, size= skip_connection.shape[2:])\n",
    "            concat_skip = torch.cat((skip_connection, x), dim = 1)\n",
    "            x = self.ups[idx+1](concat_skip)\n",
    "\n",
    "        return self.final_conv(x)"
   ]
  },
  {
   "cell_type": "code",
   "execution_count": 34,
   "metadata": {},
   "outputs": [],
   "source": [
    "def test():\n",
    "    x = torch.randn((3, 3, 256, 256))# n = 3, in_channel = 3, h = w =256\n",
    "    model = UNET(in_channels = 3, out_channels = 10)\n",
    "    preds = model(x)\n",
    "    print(preds.shape)\n",
    "    print(x.shape)\n",
    "    #shape of input and output is same\n",
    "\n",
    "\n",
    "# test()"
   ]
  },
  {
   "cell_type": "markdown",
   "metadata": {},
   "source": [
    "## Prepare for training "
   ]
  },
  {
   "cell_type": "code",
   "execution_count": 37,
   "metadata": {},
   "outputs": [],
   "source": [
    "def train(epo_num=10):\n",
    "\n",
    "    device = torch.device('cuda' if torch.cuda.is_available() else 'cpu')\n",
    "\n",
    "    model = UNET(in_channels = 3, out_channels = 10)#input is rgb output is 10 classes\n",
    "    model_name = model.name\n",
    "    model = model.to(device)\n",
    "    criterion = nn.BCELoss().to(device) #loss\n",
    "    optimizer = optim.SGD(model.parameters(), lr=1e-2, momentum=0.7) #optimizer\n",
    "\n",
    "    all_train_iter_loss = []\n",
    "    all_test_iter_loss = []\n",
    "\n",
    "    # start timing\n",
    "    prev_time = datetime.now()\n",
    "    for epo in trange(epo_num):\n",
    "\n",
    "        train_loss = 0\n",
    "        model.train()\n",
    "        for index, (car, car_msk) in enumerate(train_dataloader):\n",
    "            # car.shape is torch.Size([12, 3, 256, 256])\n",
    "            # car_msk.shape is torch.Size([12, 10, 256, 256])\n",
    "\n",
    "            car = car.to(device)\n",
    "            car_msk = car_msk.to(device)\n",
    "\n",
    "            optimizer.zero_grad()\n",
    "            output = model(car)\n",
    "            output = torch.sigmoid(output) # output.shape is torch.Size([12, 10, 256, 256])\n",
    "            loss = criterion(output, car_msk)\n",
    "            loss.backward()\n",
    "            optimizer.step()\n",
    "            \n",
    "            iter_loss = loss.item()\n",
    "            all_train_iter_loss.append(iter_loss)\n",
    "            train_loss += iter_loss\n",
    "\n",
    "        test_loss = 0\n",
    "        model.eval()\n",
    "        with torch.no_grad():\n",
    "            for _, (car, car_msk) in enumerate(test_dataloader):\n",
    "\n",
    "                car = car.to(device)\n",
    "                car_msk = car_msk.to(device)\n",
    "\n",
    "                optimizer.zero_grad()\n",
    "                output = model(car)\n",
    "                output = torch.sigmoid(output) # output.shape is torch.Size([12, 10, 256, 256])\n",
    "                loss = criterion(output, car_msk)\n",
    "                iter_loss = loss.item()\n",
    "                all_test_iter_loss.append(iter_loss)\n",
    "                test_loss += iter_loss\n",
    "\n",
    "\n",
    "        cur_time = datetime.now()\n",
    "        h, remainder = divmod((cur_time - prev_time).seconds, 3600)\n",
    "        m, s = divmod(remainder, 60)\n",
    "        time_str = \"Time %02d:%02d:%02d\" % (h, m, s)\n",
    "        prev_time = cur_time\n",
    "\n",
    "        print('epoch:', epo, '/', epo_num)\n",
    "        print('epoch train loss = %f, epoch test loss = %f, %s'\n",
    "                %(train_loss/len(train_dataloader), test_loss/len(test_dataloader), time_str))\n",
    "\n",
    "        #save model each 5 epoch\n",
    "        if np.mod(epo, 5) == 0:\n",
    "            # save model\n",
    "            filename = f'{model_name}_{epo}_loss_trian_{round(train_loss/len(train_dataloader),5)}.pt'\n",
    "            torch.save(model, filename)\n",
    "            print(f\"\\nSaving {filename}\")\n",
    "    return model\n",
    "\n",
    "\n",
    "if __name__ == \"__main__\":\n",
    "    model = train(epo_num=100) #maybe larger"
   ]
  },
  {
   "cell_type": "markdown",
   "metadata": {},
   "source": [
    "## Save the model"
   ]
  },
  {
   "cell_type": "code",
   "execution_count": null,
   "metadata": {},
   "outputs": [],
   "source": [
    "torch.save(model, 'unet_model.pth')"
   ]
  }
 ],
 "metadata": {
  "kernelspec": {
   "display_name": "pfas",
   "language": "python",
   "name": "python3"
  },
  "language_info": {
   "codemirror_mode": {
    "name": "ipython",
    "version": 3
   },
   "file_extension": ".py",
   "mimetype": "text/x-python",
   "name": "python",
   "nbconvert_exporter": "python",
   "pygments_lexer": "ipython3",
   "version": "3.10.9"
  }
 },
 "nbformat": 4,
 "nbformat_minor": 2
}
